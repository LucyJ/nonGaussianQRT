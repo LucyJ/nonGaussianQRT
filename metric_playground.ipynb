{
 "cells": [
  {
   "cell_type": "markdown",
   "metadata": {},
   "source": [
    "# Imports and logistics"
   ]
  },
  {
   "cell_type": "code",
   "execution_count": 3,
   "metadata": {},
   "outputs": [
    {
     "name": "stdout",
     "output_type": "stream",
     "text": [
      "Retrieving notices: ...working... done\n",
      "Collecting package metadata (current_repodata.json): done\n",
      "Solving environment: done\n",
      "\n",
      "\n",
      "==> WARNING: A newer version of conda exists. <==\n",
      "  current version: 23.9.0\n",
      "  latest version: 24.1.2\n",
      "\n",
      "Please update conda by running\n",
      "\n",
      "    $ conda update -n base -c conda-forge conda\n",
      "\n",
      "Or to minimize the number of packages updated during conda update use\n",
      "\n",
      "     conda install conda=24.1.2\n",
      "\n",
      "\n",
      "\n",
      "## Package Plan ##\n",
      "\n",
      "  environment location: /Users/lucyjiao/Desktop/thesis/.conda\n",
      "\n",
      "  added / updated specs:\n",
      "    - numba\n",
      "\n",
      "\n",
      "The following packages will be downloaded:\n",
      "\n",
      "    package                    |            build\n",
      "    ---------------------------|-----------------\n",
      "    openssl-3.2.1              |       h0d3ecfb_1         2.7 MB  conda-forge\n",
      "    ------------------------------------------------------------\n",
      "                                           Total:         2.7 MB\n",
      "\n",
      "The following packages will be UPDATED:\n",
      "\n",
      "  openssl                                  3.2.1-h0d3ecfb_0 --> 3.2.1-h0d3ecfb_1 \n",
      "\n",
      "\n",
      "\n",
      "Downloading and Extracting Packages:\n",
      "                                                                                \n",
      "Preparing transaction: done\n",
      "Verifying transaction: done\n",
      "Executing transaction: done\n",
      "\n",
      "Note: you may need to restart the kernel to use updated packages.\n"
     ]
    }
   ],
   "source": [
    "conda install numba"
   ]
  },
  {
   "cell_type": "code",
   "execution_count": 4,
   "metadata": {},
   "outputs": [],
   "source": [
    "# https://github.com/quantumlib/OpenFermion for open fermion my saviors"
   ]
  },
  {
   "cell_type": "markdown",
   "metadata": {},
   "source": [
    "# Generate Random Gaussian State"
   ]
  },
  {
   "cell_type": "code",
   "execution_count": 1,
   "metadata": {},
   "outputs": [],
   "source": [
    "import numpy as np\n",
    "import numba as nb\n",
    "\n",
    "import cirq\n",
    "\n",
    "import openfermion as of\n",
    "from openfermion.testing.testing_utils import random_quadratic_hamiltonian\n",
    "from openfermion.ops import QuadraticHamiltonian\n",
    "import math"
   ]
  },
  {
   "cell_type": "code",
   "execution_count": 2,
   "metadata": {},
   "outputs": [],
   "source": [
    "# set up the number of orbs and a random quadratic Hamiltonian\n",
    "norbs =10\n",
    "qh = random_quadratic_hamiltonian(norbs, conserves_particle_number=True, real=True, expand_spin=False, seed=2)"
   ]
  },
  {
   "cell_type": "code",
   "execution_count": 3,
   "metadata": {},
   "outputs": [],
   "source": [
    "gspc = of.circuits.prepare_gaussian_state(\n",
    "    qubits=cirq.LineQubit.range(0,norbs), quadratic_hamiltonian=qh, occupied_orbitals=None\n",
    ")"
   ]
  },
  {
   "cell_type": "code",
   "execution_count": 4,
   "metadata": {},
   "outputs": [],
   "source": [
    "def c_k(k):\n",
    "    # if k > 2 * len(qubits):\n",
    "    #     raise ValueError(\"k cannot be more than 2n\")\n",
    "\n",
    "    qubits = cirq.LineQubit.range(k)\n",
    "\n",
    "    Zs = [cirq.Z(q) for q in qubits]\n",
    "    Xs = [cirq.X(q) for q in qubits]\n",
    "    Ys = [cirq.Y(q) for q in qubits]\n",
    "\n",
    "    j = math.ceil(k/2)\n",
    "\n",
    "    j_gate = Xs[j-1] if k % 2 == 1 else Ys[j-1]\n",
    "\n",
    "    return cirq.PauliString([Zs[i] for i in range(j-1)] + [j_gate])\n"
   ]
  },
  {
   "cell_type": "code",
   "execution_count": 5,
   "metadata": {},
   "outputs": [],
   "source": [
    "qs = cirq.LineQubit.range(0,norbs)\n",
    "c = c_k(k=2)\n",
    "c2 = c_k(k=3)"
   ]
  },
  {
   "cell_type": "code",
   "execution_count": 6,
   "metadata": {},
   "outputs": [
    {
     "name": "stdout",
     "output_type": "stream",
     "text": [
      "<generator object prepare_gaussian_state at 0x282d38240>\n"
     ]
    }
   ],
   "source": [
    "print(gspc)"
   ]
  },
  {
   "cell_type": "code",
   "execution_count": 7,
   "metadata": {},
   "outputs": [],
   "source": [
    "circuit = cirq.Circuit()\n",
    "# circuit.append(gspc)\n",
    "circuit.append([cirq.I(q) for q in qs])\n",
    "# circuit.append([c2*c])"
   ]
  },
  {
   "cell_type": "code",
   "execution_count": 8,
   "metadata": {},
   "outputs": [
    {
     "data": {
      "text/html": [
       "<pre style=\"overflow: auto; white-space: pre;\">0: ───I───\n",
       "\n",
       "1: ───I───\n",
       "\n",
       "2: ───I───\n",
       "\n",
       "3: ───I───\n",
       "\n",
       "4: ───I───\n",
       "\n",
       "5: ───I───\n",
       "\n",
       "6: ───I───\n",
       "\n",
       "7: ───I───\n",
       "\n",
       "8: ───I───\n",
       "\n",
       "9: ───I───</pre>"
      ],
      "text/plain": [
       "0: ───I───\n",
       "\n",
       "1: ───I───\n",
       "\n",
       "2: ───I───\n",
       "\n",
       "3: ───I───\n",
       "\n",
       "4: ───I───\n",
       "\n",
       "5: ───I───\n",
       "\n",
       "6: ───I───\n",
       "\n",
       "7: ───I───\n",
       "\n",
       "8: ───I───\n",
       "\n",
       "9: ───I───"
      ]
     },
     "execution_count": 8,
     "metadata": {},
     "output_type": "execute_result"
    }
   ],
   "source": [
    "circuit"
   ]
  },
  {
   "cell_type": "code",
   "execution_count": 9,
   "metadata": {},
   "outputs": [],
   "source": [
    "simulator = cirq.Simulator()\n",
    "result = simulator.simulate(circuit)"
   ]
  },
  {
   "cell_type": "code",
   "execution_count": 10,
   "metadata": {},
   "outputs": [
    {
     "data": {
      "text/plain": [
       "measurements: (no measurements)\n",
       "\n",
       "qubits: (cirq.LineQubit(0),)\n",
       "output vector: |0⟩\n",
       "\n",
       "qubits: (cirq.LineQubit(1),)\n",
       "output vector: |0⟩\n",
       "\n",
       "qubits: (cirq.LineQubit(2),)\n",
       "output vector: |0⟩\n",
       "\n",
       "qubits: (cirq.LineQubit(3),)\n",
       "output vector: |0⟩\n",
       "\n",
       "qubits: (cirq.LineQubit(4),)\n",
       "output vector: |0⟩\n",
       "\n",
       "qubits: (cirq.LineQubit(5),)\n",
       "output vector: |0⟩\n",
       "\n",
       "qubits: (cirq.LineQubit(6),)\n",
       "output vector: |0⟩\n",
       "\n",
       "qubits: (cirq.LineQubit(7),)\n",
       "output vector: |0⟩\n",
       "\n",
       "qubits: (cirq.LineQubit(8),)\n",
       "output vector: |0⟩\n",
       "\n",
       "qubits: (cirq.LineQubit(9),)\n",
       "output vector: |0⟩\n",
       "\n",
       "phase:\n",
       "output vector: |⟩"
      ]
     },
     "execution_count": 10,
     "metadata": {},
     "output_type": "execute_result"
    }
   ],
   "source": [
    "result"
   ]
  },
  {
   "cell_type": "code",
   "execution_count": 11,
   "metadata": {},
   "outputs": [
    {
     "data": {
      "text/plain": [
       "array([1.+0.j, 0.+0.j, 0.+0.j, ..., 0.+0.j, 0.+0.j, 0.+0.j],\n",
       "      dtype=complex64)"
      ]
     },
     "execution_count": 11,
     "metadata": {},
     "output_type": "execute_result"
    }
   ],
   "source": [
    "result.final_state_vector"
   ]
  },
  {
   "cell_type": "code",
   "execution_count": 12,
   "metadata": {},
   "outputs": [],
   "source": [
    "dm = cirq.density_matrix_from_state_vector(result.final_state_vector)"
   ]
  },
  {
   "cell_type": "code",
   "execution_count": 13,
   "metadata": {},
   "outputs": [],
   "source": [
    "# def covariance_jk(density_mat, j, k):\n",
    "#     if j == k:\n",
    "#         return 0\n",
    "    \n",
    "#     qubits = cirq.LineQubit.range(int(np.log2(density_mat.shape[0]))) \n",
    "\n",
    "#     cj = c_k(qubits, j)\n",
    "#     ck = c_k(qubits, k)\n",
    "\n",
    "#     circuit = cirq.Circuit()\n",
    "#     circuit.append([cirq.I(q) for q in qubits])\n",
    "#     circuit.append([cj*ck])\n",
    "\n",
    "#     dcsim = cirq.DensityMatrixSimulator()\n",
    "\n",
    "#     res = dcsim.simulate(circuit, initial_state=density_mat)\n",
    "#     m = res.final_density_matrix\n",
    "#     trace = np.trace(m)\n",
    "\n",
    "#     return 1j * trace\n",
    "\n",
    "def covariance_jk(state_vector, j, k):\n",
    "    if j == k:\n",
    "        return 0\n",
    "    \n",
    "    qubits = cirq.LineQubit.range(int(np.log2(len(state_vector)))) \n",
    "\n",
    "    cj = c_k(j)\n",
    "    ck = c_k(k)\n",
    "\n",
    "    circuit = cirq.Circuit()\n",
    "    circuit.append([cirq.I(q) for q in qubits])\n",
    "    circuit.append([cj*ck])\n",
    "\n",
    "    # # print(cj, ck)\n",
    "\n",
    "    # dcsim = cirq.Simulator()\n",
    "\n",
    "    # res = dcsim.simulate(circuit, initial_state=state_vector)\n",
    "    # m = cirq.density_matrix_from_state_vector(res.final_state_vector)\n",
    "    # trace = np.trace(m)\n",
    "\n",
    "    # print((cj*ck).matrix(), (cj*ck), cj, ck)\n",
    "\n",
    "    # print(circuit.unitary(), j, k, cj*ck)\n",
    "\n",
    "    expectation = state_vector.conj() @ (circuit.unitary() @ state_vector)\n",
    "\n",
    "    # print(\"expectation:\", expectation)\n",
    "\n",
    "    return 1j * expectation\n",
    "\n",
    "def covariance_jk_circ(state_vector, j, k):\n",
    "    if j == k:\n",
    "        return 0\n",
    "    \n",
    "    qubits = cirq.LineQubit.range(int(np.log2(len(state_vector)))) \n",
    "\n",
    "    cj = c_k(j)\n",
    "    ck = c_k(k)\n",
    "\n",
    "    circuit = cirq.Circuit()\n",
    "    circuit.append([cirq.I(q) for q in qubits])\n",
    "    circuit.append([cj*ck])\n",
    "    simulator = cirq.Simulator()\n",
    "    result = simulator.simulate(circuit, initial_state=state_vector)\n",
    "\n",
    "    expectation = state_vector.conj() @ (result.final_state_vector)\n",
    "\n",
    "    return 1j * expectation"
   ]
  },
  {
   "cell_type": "code",
   "execution_count": 14,
   "metadata": {},
   "outputs": [
    {
     "name": "stdout",
     "output_type": "stream",
     "text": [
      "122.109375\n",
      "158.6875\n"
     ]
    }
   ],
   "source": [
    "import timeit, functools\n",
    "from memory_profiler import memory_usage\n",
    "\n",
    "# print(timeit.timeit(functools.partial(covariance_jk_circ, result.final_state_vector, 3, 4), number=100))\n",
    "mem_usage_cric = memory_usage(functools.partial(covariance_jk_circ, result.final_state_vector, 1, 18))\n",
    "print(max(mem_usage_cric))\n",
    "\n",
    "# print(timeit.timeit(functools.partial(covariance_jk, result.final_state_vector, 3, 4), number=100))\n",
    "mem_usage = memory_usage(functools.partial(covariance_jk, result.final_state_vector, 1, 18))\n",
    "print(max(mem_usage))\n",
    "\n"
   ]
  },
  {
   "cell_type": "code",
   "execution_count": 15,
   "metadata": {},
   "outputs": [
    {
     "data": {
      "text/plain": [
       "(-1+0j)"
      ]
     },
     "execution_count": 15,
     "metadata": {},
     "output_type": "execute_result"
    }
   ],
   "source": [
    "covariance_jk(result.final_state_vector, 3, 4)\n"
   ]
  },
  {
   "cell_type": "code",
   "execution_count": 16,
   "metadata": {},
   "outputs": [
    {
     "data": {
      "text/plain": [
       "(-1+0j)"
      ]
     },
     "execution_count": 16,
     "metadata": {},
     "output_type": "execute_result"
    }
   ],
   "source": [
    "covariance_jk_circ(result.final_state_vector, 3, 4)"
   ]
  },
  {
   "cell_type": "code",
   "execution_count": 17,
   "metadata": {},
   "outputs": [],
   "source": [
    "# def covariance(density_mat):\n",
    "#     n = int(np.log2(density_mat.shape[0]))\n",
    "\n",
    "#     covariance_mat = np.array([[covariance_jk(density_mat=density_mat, j=j, k=k)for j in range(1,2*n + 1)] for k in range(1,2*n + 1)])\n",
    "#     return covariance_mat\n",
    "\n",
    "def covariance_circ(state_vec):\n",
    "    n = int(np.log2(len(state_vec)))\n",
    "\n",
    "    covariance_mat = np.array([[covariance_jk_circ(state_vec, j=j, k=k) for j in range(1,2*n + 1)] for k in range(1,2*n + 1)])\n",
    "    return covariance_mat\n",
    "    \n",
    "def covariance(state_vec):\n",
    "    n = int(np.log2(len(state_vec)))\n",
    "\n",
    "    covariance_mat = np.array([[covariance_jk(state_vec, j=j, k=k) for j in range(1,2*n + 1)] for k in range(1,2*n + 1)])\n",
    "    return covariance_mat\n",
    "    \n",
    "    "
   ]
  },
  {
   "cell_type": "code",
   "execution_count": 18,
   "metadata": {},
   "outputs": [
    {
     "name": "stdout",
     "output_type": "stream",
     "text": [
      "2.702063959033694\n",
      "83.1875\n",
      "55.44587012496777\n",
      "166.484375\n"
     ]
    }
   ],
   "source": [
    "import timeit, functools\n",
    "from memory_profiler import memory_usage\n",
    "\n",
    "print(timeit.timeit(functools.partial(covariance_circ, result.final_state_vector), number=10))\n",
    "mem_usage_cric = memory_usage(functools.partial(covariance_circ, result.final_state_vector))\n",
    "print(max(mem_usage_cric))\n",
    "\n",
    "print(timeit.timeit(functools.partial(covariance, result.final_state_vector), number=10))\n",
    "mem_usage = memory_usage(functools.partial(covariance, result.final_state_vector))\n",
    "print(max(mem_usage))"
   ]
  },
  {
   "cell_type": "code",
   "execution_count": 19,
   "metadata": {},
   "outputs": [
    {
     "data": {
      "text/plain": [
       "array([[ True,  True,  True,  True,  True,  True,  True,  True,  True,\n",
       "         True,  True,  True,  True,  True,  True,  True,  True,  True,\n",
       "         True,  True],\n",
       "       [ True,  True,  True,  True,  True,  True,  True,  True,  True,\n",
       "         True,  True,  True,  True,  True,  True,  True,  True,  True,\n",
       "         True,  True],\n",
       "       [ True,  True,  True,  True,  True,  True,  True,  True,  True,\n",
       "         True,  True,  True,  True,  True,  True,  True,  True,  True,\n",
       "         True,  True],\n",
       "       [ True,  True,  True,  True,  True,  True,  True,  True,  True,\n",
       "         True,  True,  True,  True,  True,  True,  True,  True,  True,\n",
       "         True,  True],\n",
       "       [ True,  True,  True,  True,  True,  True,  True,  True,  True,\n",
       "         True,  True,  True,  True,  True,  True,  True,  True,  True,\n",
       "         True,  True],\n",
       "       [ True,  True,  True,  True,  True,  True,  True,  True,  True,\n",
       "         True,  True,  True,  True,  True,  True,  True,  True,  True,\n",
       "         True,  True],\n",
       "       [ True,  True,  True,  True,  True,  True,  True,  True,  True,\n",
       "         True,  True,  True,  True,  True,  True,  True,  True,  True,\n",
       "         True,  True],\n",
       "       [ True,  True,  True,  True,  True,  True,  True,  True,  True,\n",
       "         True,  True,  True,  True,  True,  True,  True,  True,  True,\n",
       "         True,  True],\n",
       "       [ True,  True,  True,  True,  True,  True,  True,  True,  True,\n",
       "         True,  True,  True,  True,  True,  True,  True,  True,  True,\n",
       "         True,  True],\n",
       "       [ True,  True,  True,  True,  True,  True,  True,  True,  True,\n",
       "         True,  True,  True,  True,  True,  True,  True,  True,  True,\n",
       "         True,  True],\n",
       "       [ True,  True,  True,  True,  True,  True,  True,  True,  True,\n",
       "         True,  True,  True,  True,  True,  True,  True,  True,  True,\n",
       "         True,  True],\n",
       "       [ True,  True,  True,  True,  True,  True,  True,  True,  True,\n",
       "         True,  True,  True,  True,  True,  True,  True,  True,  True,\n",
       "         True,  True],\n",
       "       [ True,  True,  True,  True,  True,  True,  True,  True,  True,\n",
       "         True,  True,  True,  True,  True,  True,  True,  True,  True,\n",
       "         True,  True],\n",
       "       [ True,  True,  True,  True,  True,  True,  True,  True,  True,\n",
       "         True,  True,  True,  True,  True,  True,  True,  True,  True,\n",
       "         True,  True],\n",
       "       [ True,  True,  True,  True,  True,  True,  True,  True,  True,\n",
       "         True,  True,  True,  True,  True,  True,  True,  True,  True,\n",
       "         True,  True],\n",
       "       [ True,  True,  True,  True,  True,  True,  True,  True,  True,\n",
       "         True,  True,  True,  True,  True,  True,  True,  True,  True,\n",
       "         True,  True],\n",
       "       [ True,  True,  True,  True,  True,  True,  True,  True,  True,\n",
       "         True,  True,  True,  True,  True,  True,  True,  True,  True,\n",
       "         True,  True],\n",
       "       [ True,  True,  True,  True,  True,  True,  True,  True,  True,\n",
       "         True,  True,  True,  True,  True,  True,  True,  True,  True,\n",
       "         True,  True],\n",
       "       [ True,  True,  True,  True,  True,  True,  True,  True,  True,\n",
       "         True,  True,  True,  True,  True,  True,  True,  True,  True,\n",
       "         True,  True],\n",
       "       [ True,  True,  True,  True,  True,  True,  True,  True,  True,\n",
       "         True,  True,  True,  True,  True,  True,  True,  True,  True,\n",
       "         True,  True]])"
      ]
     },
     "execution_count": 19,
     "metadata": {},
     "output_type": "execute_result"
    }
   ],
   "source": [
    "covariance(result.final_state_vector) == covariance_circ(result.final_state_vector)"
   ]
  },
  {
   "cell_type": "code",
   "execution_count": 20,
   "metadata": {},
   "outputs": [
    {
     "data": {
      "text/plain": [
       "array([[1.+0.j, 0.+0.j, 0.+0.j, ..., 0.+0.j, 0.+0.j, 0.+0.j],\n",
       "       [0.+0.j, 0.+0.j, 0.+0.j, ..., 0.+0.j, 0.+0.j, 0.+0.j],\n",
       "       [0.+0.j, 0.+0.j, 0.+0.j, ..., 0.+0.j, 0.+0.j, 0.+0.j],\n",
       "       ...,\n",
       "       [0.+0.j, 0.+0.j, 0.+0.j, ..., 0.+0.j, 0.+0.j, 0.+0.j],\n",
       "       [0.+0.j, 0.+0.j, 0.+0.j, ..., 0.+0.j, 0.+0.j, 0.+0.j],\n",
       "       [0.+0.j, 0.+0.j, 0.+0.j, ..., 0.+0.j, 0.+0.j, 0.+0.j]],\n",
       "      dtype=complex64)"
      ]
     },
     "execution_count": 20,
     "metadata": {},
     "output_type": "execute_result"
    }
   ],
   "source": [
    "cirq.density_matrix_from_state_vector(result.final_state_vector)"
   ]
  },
  {
   "cell_type": "code",
   "execution_count": 21,
   "metadata": {},
   "outputs": [
    {
     "data": {
      "text/plain": [
       "array([[ 0.+0.j,  1.+0.j,  0.+0.j,  0.+0.j,  0.+0.j,  0.+0.j,  0.+0.j,\n",
       "         0.+0.j,  0.+0.j,  0.+0.j,  0.+0.j,  0.+0.j,  0.+0.j,  0.+0.j,\n",
       "         0.+0.j,  0.+0.j,  0.+0.j,  0.+0.j,  0.+0.j,  0.+0.j],\n",
       "       [-1.+0.j,  0.+0.j,  0.+0.j,  0.+0.j,  0.+0.j,  0.+0.j,  0.+0.j,\n",
       "         0.+0.j,  0.+0.j,  0.+0.j,  0.+0.j,  0.+0.j,  0.+0.j,  0.+0.j,\n",
       "         0.+0.j,  0.+0.j,  0.+0.j,  0.+0.j,  0.+0.j,  0.+0.j],\n",
       "       [ 0.+0.j,  0.+0.j,  0.+0.j,  1.+0.j,  0.+0.j,  0.+0.j,  0.+0.j,\n",
       "         0.+0.j,  0.+0.j,  0.+0.j,  0.+0.j,  0.+0.j,  0.+0.j,  0.+0.j,\n",
       "         0.+0.j,  0.+0.j,  0.+0.j,  0.+0.j,  0.+0.j,  0.+0.j],\n",
       "       [ 0.+0.j,  0.+0.j, -1.+0.j,  0.+0.j,  0.+0.j,  0.+0.j,  0.+0.j,\n",
       "         0.+0.j,  0.+0.j,  0.+0.j,  0.+0.j,  0.+0.j,  0.+0.j,  0.+0.j,\n",
       "         0.+0.j,  0.+0.j,  0.+0.j,  0.+0.j,  0.+0.j,  0.+0.j],\n",
       "       [ 0.+0.j,  0.+0.j,  0.+0.j,  0.+0.j,  0.+0.j,  1.+0.j,  0.+0.j,\n",
       "         0.+0.j,  0.+0.j,  0.+0.j,  0.+0.j,  0.+0.j,  0.+0.j,  0.+0.j,\n",
       "         0.+0.j,  0.+0.j,  0.+0.j,  0.+0.j,  0.+0.j,  0.+0.j],\n",
       "       [ 0.+0.j,  0.+0.j,  0.+0.j,  0.+0.j, -1.+0.j,  0.+0.j,  0.+0.j,\n",
       "         0.+0.j,  0.+0.j,  0.+0.j,  0.+0.j,  0.+0.j,  0.+0.j,  0.+0.j,\n",
       "         0.+0.j,  0.+0.j,  0.+0.j,  0.+0.j,  0.+0.j,  0.+0.j],\n",
       "       [ 0.+0.j,  0.+0.j,  0.+0.j,  0.+0.j,  0.+0.j,  0.+0.j,  0.+0.j,\n",
       "         1.+0.j,  0.+0.j,  0.+0.j,  0.+0.j,  0.+0.j,  0.+0.j,  0.+0.j,\n",
       "         0.+0.j,  0.+0.j,  0.+0.j,  0.+0.j,  0.+0.j,  0.+0.j],\n",
       "       [ 0.+0.j,  0.+0.j,  0.+0.j,  0.+0.j,  0.+0.j,  0.+0.j, -1.+0.j,\n",
       "         0.+0.j,  0.+0.j,  0.+0.j,  0.+0.j,  0.+0.j,  0.+0.j,  0.+0.j,\n",
       "         0.+0.j,  0.+0.j,  0.+0.j,  0.+0.j,  0.+0.j,  0.+0.j],\n",
       "       [ 0.+0.j,  0.+0.j,  0.+0.j,  0.+0.j,  0.+0.j,  0.+0.j,  0.+0.j,\n",
       "         0.+0.j,  0.+0.j,  1.+0.j,  0.+0.j,  0.+0.j,  0.+0.j,  0.+0.j,\n",
       "         0.+0.j,  0.+0.j,  0.+0.j,  0.+0.j,  0.+0.j,  0.+0.j],\n",
       "       [ 0.+0.j,  0.+0.j,  0.+0.j,  0.+0.j,  0.+0.j,  0.+0.j,  0.+0.j,\n",
       "         0.+0.j, -1.+0.j,  0.+0.j,  0.+0.j,  0.+0.j,  0.+0.j,  0.+0.j,\n",
       "         0.+0.j,  0.+0.j,  0.+0.j,  0.+0.j,  0.+0.j,  0.+0.j],\n",
       "       [ 0.+0.j,  0.+0.j,  0.+0.j,  0.+0.j,  0.+0.j,  0.+0.j,  0.+0.j,\n",
       "         0.+0.j,  0.+0.j,  0.+0.j,  0.+0.j,  1.+0.j,  0.+0.j,  0.+0.j,\n",
       "         0.+0.j,  0.+0.j,  0.+0.j,  0.+0.j,  0.+0.j,  0.+0.j],\n",
       "       [ 0.+0.j,  0.+0.j,  0.+0.j,  0.+0.j,  0.+0.j,  0.+0.j,  0.+0.j,\n",
       "         0.+0.j,  0.+0.j,  0.+0.j, -1.+0.j,  0.+0.j,  0.+0.j,  0.+0.j,\n",
       "         0.+0.j,  0.+0.j,  0.+0.j,  0.+0.j,  0.+0.j,  0.+0.j],\n",
       "       [ 0.+0.j,  0.+0.j,  0.+0.j,  0.+0.j,  0.+0.j,  0.+0.j,  0.+0.j,\n",
       "         0.+0.j,  0.+0.j,  0.+0.j,  0.+0.j,  0.+0.j,  0.+0.j,  1.+0.j,\n",
       "         0.+0.j,  0.+0.j,  0.+0.j,  0.+0.j,  0.+0.j,  0.+0.j],\n",
       "       [ 0.+0.j,  0.+0.j,  0.+0.j,  0.+0.j,  0.+0.j,  0.+0.j,  0.+0.j,\n",
       "         0.+0.j,  0.+0.j,  0.+0.j,  0.+0.j,  0.+0.j, -1.+0.j,  0.+0.j,\n",
       "         0.+0.j,  0.+0.j,  0.+0.j,  0.+0.j,  0.+0.j,  0.+0.j],\n",
       "       [ 0.+0.j,  0.+0.j,  0.+0.j,  0.+0.j,  0.+0.j,  0.+0.j,  0.+0.j,\n",
       "         0.+0.j,  0.+0.j,  0.+0.j,  0.+0.j,  0.+0.j,  0.+0.j,  0.+0.j,\n",
       "         0.+0.j,  1.+0.j,  0.+0.j,  0.+0.j,  0.+0.j,  0.+0.j],\n",
       "       [ 0.+0.j,  0.+0.j,  0.+0.j,  0.+0.j,  0.+0.j,  0.+0.j,  0.+0.j,\n",
       "         0.+0.j,  0.+0.j,  0.+0.j,  0.+0.j,  0.+0.j,  0.+0.j,  0.+0.j,\n",
       "        -1.+0.j,  0.+0.j,  0.+0.j,  0.+0.j,  0.+0.j,  0.+0.j],\n",
       "       [ 0.+0.j,  0.+0.j,  0.+0.j,  0.+0.j,  0.+0.j,  0.+0.j,  0.+0.j,\n",
       "         0.+0.j,  0.+0.j,  0.+0.j,  0.+0.j,  0.+0.j,  0.+0.j,  0.+0.j,\n",
       "         0.+0.j,  0.+0.j,  0.+0.j,  1.+0.j,  0.+0.j,  0.+0.j],\n",
       "       [ 0.+0.j,  0.+0.j,  0.+0.j,  0.+0.j,  0.+0.j,  0.+0.j,  0.+0.j,\n",
       "         0.+0.j,  0.+0.j,  0.+0.j,  0.+0.j,  0.+0.j,  0.+0.j,  0.+0.j,\n",
       "         0.+0.j,  0.+0.j, -1.+0.j,  0.+0.j,  0.+0.j,  0.+0.j],\n",
       "       [ 0.+0.j,  0.+0.j,  0.+0.j,  0.+0.j,  0.+0.j,  0.+0.j,  0.+0.j,\n",
       "         0.+0.j,  0.+0.j,  0.+0.j,  0.+0.j,  0.+0.j,  0.+0.j,  0.+0.j,\n",
       "         0.+0.j,  0.+0.j,  0.+0.j,  0.+0.j,  0.+0.j,  1.+0.j],\n",
       "       [ 0.+0.j,  0.+0.j,  0.+0.j,  0.+0.j,  0.+0.j,  0.+0.j,  0.+0.j,\n",
       "         0.+0.j,  0.+0.j,  0.+0.j,  0.+0.j,  0.+0.j,  0.+0.j,  0.+0.j,\n",
       "         0.+0.j,  0.+0.j,  0.+0.j,  0.+0.j, -1.+0.j,  0.+0.j]])"
      ]
     },
     "execution_count": 21,
     "metadata": {},
     "output_type": "execute_result"
    }
   ],
   "source": [
    "covariance(result.final_state_vector)"
   ]
  },
  {
   "cell_type": "code",
   "execution_count": 22,
   "metadata": {},
   "outputs": [
    {
     "name": "stdout",
     "output_type": "stream",
     "text": [
      "X(q(0)) Y(q(0)) Z(q(0))*X(q(1)) Z(q(0))*Y(q(1))\n"
     ]
    }
   ],
   "source": [
    "print(c_k(1),\n",
    "c_k(2),\n",
    "c_k(3), \n",
    "c_k(4)\n",
    ")"
   ]
  },
  {
   "cell_type": "code",
   "execution_count": 23,
   "metadata": {},
   "outputs": [],
   "source": [
    "def schatten_norm(A, p):\n",
    "    # Compute the singular values\n",
    "    singular_values = np.linalg.svd(A, compute_uv=False)\n",
    "    \n",
    "    # Raise the singular values to the power of p, sum them, and take the p-th root\n",
    "    if p == np.inf:\n",
    "        # The Schatten infinity norm is just the maximum singular value\n",
    "        return np.max(singular_values)\n",
    "    else:\n",
    "        # Compute the sum of the singular values raised to the power p and then take the p-th root\n",
    "        return np.sum(singular_values**p)**(1/p)"
   ]
  },
  {
   "cell_type": "code",
   "execution_count": 24,
   "metadata": {},
   "outputs": [],
   "source": [
    "def schatten_norm_pow(A, p):\n",
    "    '''\n",
    "    Computes the modified Schatten norm to the p power\n",
    "\n",
    "    @param: A: matrix to take the norm of\n",
    "    @param: p: the order for the Schatten norm\n",
    "    '''\n",
    "    # Compute the singular values\n",
    "    singular_values = np.linalg.svd(A, compute_uv=False)\n",
    "    \n",
    "    # Raise the singular values to the power of p, sum them, and take the p-th root\n",
    "    if p == np.inf:\n",
    "        # The Schatten infinity norm is just the maximum singular value\n",
    "        return np.max(singular_values)\n",
    "    else:\n",
    "        # Compute the sum of the singular values raised to the power p\n",
    "        return np.sum(singular_values**p)"
   ]
  },
  {
   "cell_type": "code",
   "execution_count": 25,
   "metadata": {},
   "outputs": [],
   "source": [
    "\n",
    "def nongaussianity(state_vec, alpha):\n",
    "    '''\n",
    "    @param: density_matrix: desity matrix of the state to examine\n",
    "    @param: alpha: the order for the schatten norm\n",
    "    '''\n",
    "    cm = covariance(state_vec)\n",
    "    norm_power = schatten_norm_pow(cm, alpha)\n",
    "\n",
    "    n = int(np.log2(state_vec.shape[0]))\n",
    "    return n - norm_power/2\n",
    "\n",
    "\n",
    "# def nongaussianity(density_matrix, alpha):\n",
    "#     '''\n",
    "#     @param: density_matrix: desity matrix of the state to examine\n",
    "#     @param: alpha: the order for the schatten norm\n",
    "#     '''\n",
    "#     cm = covariance(density_matrix)\n",
    "#     norm_power = np.linalg.norm(cm)**2\n",
    "\n",
    "#     n = int(np.log2(density_matrix.shape[0]))\n",
    "#     return n - norm_power/2\n",
    "\n"
   ]
  },
  {
   "cell_type": "code",
   "execution_count": 26,
   "metadata": {},
   "outputs": [],
   "source": [
    "sv = result.final_state_vector"
   ]
  },
  {
   "cell_type": "code",
   "execution_count": 27,
   "metadata": {},
   "outputs": [
    {
     "data": {
      "text/plain": [
       "0.0"
      ]
     },
     "execution_count": 27,
     "metadata": {},
     "output_type": "execute_result"
    }
   ],
   "source": [
    "nongaussianity(sv, 2)"
   ]
  },
  {
   "cell_type": "code",
   "execution_count": 28,
   "metadata": {},
   "outputs": [
    {
     "name": "stdout",
     "output_type": "stream",
     "text": [
      "20.0 4.47213595499958\n",
      "10\n",
      "10.0 2.23606797749979\n"
     ]
    }
   ],
   "source": [
    "m = covariance(sv)\n",
    "norm_power = schatten_norm_pow(m, 2)\n",
    "norm = schatten_norm(m, 2)\n",
    "\n",
    "print(norm_power, norm)\n",
    "\n",
    "n = int(np.log2(dm.shape[0]))\n",
    "print(n)\n",
    "\n",
    "print(norm_power/2, norm/2)\n",
    "\n"
   ]
  },
  {
   "cell_type": "code",
   "execution_count": 29,
   "metadata": {},
   "outputs": [
    {
     "data": {
      "text/plain": [
       "0.0"
      ]
     },
     "execution_count": 29,
     "metadata": {},
     "output_type": "execute_result"
    }
   ],
   "source": [
    "n - norm_power/2"
   ]
  },
  {
   "cell_type": "code",
   "execution_count": 30,
   "metadata": {},
   "outputs": [
    {
     "data": {
      "text/plain": [
       "-20.0"
      ]
     },
     "execution_count": 30,
     "metadata": {},
     "output_type": "execute_result"
    }
   ],
   "source": [
    "np.trace((m.conj() @ m).real) "
   ]
  },
  {
   "cell_type": "markdown",
   "metadata": {},
   "source": [
    "# simulate nongaussianity of random gaussian state (should be 0)"
   ]
  },
  {
   "cell_type": "code",
   "execution_count": 31,
   "metadata": {},
   "outputs": [],
   "source": [
    "# set up the number of orbs and a random quadratic Hamiltonian\n",
    "norbs = 6\n",
    "qh = random_quadratic_hamiltonian(norbs, conserves_particle_number=True, real=True, expand_spin=False)\n",
    "gspc = of.circuits.prepare_gaussian_state(\n",
    "    qubits=cirq.LineQubit.range(0,norbs), quadratic_hamiltonian=qh, occupied_orbitals=None\n",
    ")\n",
    "circuit = cirq.Circuit()\n",
    "circuit.append(gspc)\n",
    "simulator = cirq.Simulator()\n",
    "result = simulator.simulate(circuit)"
   ]
  },
  {
   "cell_type": "code",
   "execution_count": 32,
   "metadata": {},
   "outputs": [
    {
     "data": {
      "text/plain": [
       "-9.790742714343992e-07"
      ]
     },
     "execution_count": 32,
     "metadata": {},
     "output_type": "execute_result"
    }
   ],
   "source": [
    "nongaussianity(result.final_state_vector, 2)"
   ]
  },
  {
   "cell_type": "code",
   "execution_count": 33,
   "metadata": {},
   "outputs": [],
   "source": [
    "def covariance_jk_matrix(density_matrix, j, k):\n",
    "    if j == k:\n",
    "        return 0\n",
    "    \n",
    "    qubits = cirq.LineQubit.range(int(np.log2(len(density_matrix)))) \n",
    "\n",
    "    cj = c_k(j)\n",
    "    ck = c_k(k)\n",
    "\n",
    "    circuit = cirq.Circuit()\n",
    "    circuit.append([cirq.I(q) for q in qubits])\n",
    "    circuit.append([cj*ck])\n",
    "\n",
    "    expectation = np.trace((density_matrix @ circuit.unitary()))\n",
    "\n",
    "    return 1j * expectation\n",
    "\n",
    "def covariance_matrix(denisty_matrix):\n",
    "    n = int(np.log2(len(denisty_matrix)))\n",
    "\n",
    "    covariance_mat = np.array([[covariance_jk_matrix(denisty_matrix, j=j, k=k) for j in range(1,2*n + 1)] for k in range(1,2*n + 1)])\n",
    "    return covariance_mat\n",
    "\n",
    "def nongaussianity_matrix(density_matrix, alpha):\n",
    "    '''\n",
    "    @param: density_matrix: desity matrix of the state to examine\n",
    "    @param: alpha: the order for the schatten norm\n",
    "    '''\n",
    "    cm = covariance_matrix(density_matrix)\n",
    "    norm_power = schatten_norm_pow(cm, alpha)\n",
    "\n",
    "    n = int(np.log2(density_matrix.shape[0]))\n",
    "    return n - norm_power/2\n",
    "\n"
   ]
  },
  {
   "cell_type": "code",
   "execution_count": 34,
   "metadata": {},
   "outputs": [
    {
     "data": {
      "text/plain": [
       "-1.073230119885693e-06"
      ]
     },
     "execution_count": 34,
     "metadata": {},
     "output_type": "execute_result"
    }
   ],
   "source": [
    "nongaussianity_matrix(cirq.density_matrix_from_state_vector(result.final_state_vector), 2)"
   ]
  },
  {
   "cell_type": "code",
   "execution_count": 35,
   "metadata": {},
   "outputs": [],
   "source": [
    "\n",
    "# sum of squares from stackexchange https://stackoverflow.com/questions/56047264/generate-two-random-numbers-whose-square-sum-1\n",
    "from functools import reduce\n",
    "from math import sqrt\n",
    "from random import gauss, uniform\n",
    "rng = np.random.default_rng()\n",
    "\n",
    "def sum_of_squares_is_one(n = 2):\n",
    "    if ((n < 2) or (int(n) != n)) is True:\n",
    "        raise Exception(\"Invalid argument for n\")\n",
    "    l = [gauss(0.0, 1.0) for _ in range(n)]\n",
    "    norm = sqrt(reduce(lambda sum,x: sum + x*x, l, 0.0)) # / uniform(0.95, 1.05)\n",
    "    return [x / norm for x in l]\n",
    "\n",
    "\n",
    "def superposition(states):\n",
    "    '''\n",
    "        Generates a superposition of the given states\n",
    "        @param states: a list of quantum states in state vector form\n",
    "    '''\n",
    "\n",
    "    n = len(states)\n",
    "    coeffs = cirq.testing.random_superposition(n)\n",
    "    states = np.asarray(states)\n",
    "\n",
    "    modified_state_vector = np.sum([states[i]*coeffs[i] for i in range(n)], axis=0)\n",
    "\n",
    "    # print(n, coeffs, states)\n",
    "    # print(sum(np.array(coeffs)**2))\n",
    "    return modified_state_vector/np.linalg.norm(modified_state_vector)"
   ]
  },
  {
   "cell_type": "code",
   "execution_count": 36,
   "metadata": {},
   "outputs": [
    {
     "data": {
      "text/plain": [
       "array([-0.8292901+0.55881833j,  0.       +0.j        ,\n",
       "        0.       +0.j        ,  0.       +0.j        ])"
      ]
     },
     "execution_count": 36,
     "metadata": {},
     "output_type": "execute_result"
    }
   ],
   "source": [
    "s = superposition([[1, 0, 0, 0], [1,0, 0, 0], [1, 0, 0, 0]])\n",
    "s"
   ]
  },
  {
   "cell_type": "code",
   "execution_count": 37,
   "metadata": {},
   "outputs": [
    {
     "data": {
      "text/plain": [
       "1.0000000000000002"
      ]
     },
     "execution_count": 37,
     "metadata": {},
     "output_type": "execute_result"
    }
   ],
   "source": [
    "np.linalg.norm(s)"
   ]
  },
  {
   "cell_type": "code",
   "execution_count": 38,
   "metadata": {},
   "outputs": [
    {
     "data": {
      "text/plain": [
       "1.0000000000000002"
      ]
     },
     "execution_count": 38,
     "metadata": {},
     "output_type": "execute_result"
    }
   ],
   "source": [
    "sum(abs(s**2))"
   ]
  },
  {
   "cell_type": "code",
   "execution_count": 39,
   "metadata": {},
   "outputs": [
    {
     "data": {
      "text/plain": [
       "0.7071067811865475"
      ]
     },
     "execution_count": 39,
     "metadata": {},
     "output_type": "execute_result"
    }
   ],
   "source": [
    "1/sqrt(2)"
   ]
  },
  {
   "cell_type": "code",
   "execution_count": 40,
   "metadata": {},
   "outputs": [],
   "source": [
    "def generate_random_gaussian_state_vector(norbs):\n",
    "    qh = random_quadratic_hamiltonian(norbs, conserves_particle_number=True, real=True, expand_spin=False)\n",
    "    gspc = of.circuits.prepare_gaussian_state(\n",
    "        qubits=cirq.LineQubit.range(0,norbs), quadratic_hamiltonian=qh, occupied_orbitals=None\n",
    "    )\n",
    "    circuit = cirq.Circuit()\n",
    "    circuit.append(gspc)\n",
    "    simulator = cirq.Simulator()\n",
    "    result = simulator.simulate(circuit)\n",
    "    return result.final_state_vector"
   ]
  },
  {
   "cell_type": "code",
   "execution_count": 41,
   "metadata": {},
   "outputs": [],
   "source": [
    "# this is slower\n",
    "# def generate_random_gaussian_state_vector(norbs):\n",
    "#     qh = random_quadratic_hamiltonian(norbs, conserves_particle_number=True, real=True, expand_spin=False)\n",
    "#     _g_energy, g_state = of.circuits.jw_get_gaussian_state(qh, occupied_orbitals=None)\n",
    "#     return g_state"
   ]
  },
  {
   "cell_type": "code",
   "execution_count": 42,
   "metadata": {},
   "outputs": [
    {
     "data": {
      "text/plain": [
       "array([ 0.        +0.000000e+00j, -0.8574582 +5.250417e-17j,\n",
       "        0.51455367+0.000000e+00j,  0.        +0.000000e+00j],\n",
       "      dtype=complex64)"
      ]
     },
     "execution_count": 42,
     "metadata": {},
     "output_type": "execute_result"
    }
   ],
   "source": [
    "v = generate_random_gaussian_state_vector(2)\n",
    "v"
   ]
  },
  {
   "cell_type": "code",
   "execution_count": 43,
   "metadata": {},
   "outputs": [
    {
     "data": {
      "text/plain": [
       "(0.9999999701976776-9.004026403762217e-17j)"
      ]
     },
     "execution_count": 43,
     "metadata": {},
     "output_type": "execute_result"
    }
   ],
   "source": [
    "sum(v**2)"
   ]
  },
  {
   "cell_type": "code",
   "execution_count": 44,
   "metadata": {},
   "outputs": [],
   "source": [
    "def generate_n_samples(n, norbs):\n",
    "    # return np.fromfunction(lambda x: random_quadratic_hamiltonian(norbs, conserves_particle_number=True, real=True, expand_spin=False), shape=(n,))\n",
    "    states = [generate_random_gaussian_state_vector(norbs) for _ in range(n)]\n",
    "\n",
    "    N = 2**norbs\n",
    "\n",
    "    s = [np.pad(state, (0, N - len(state))) for state in states]\n",
    "\n",
    "    return s\n"
   ]
  },
  {
   "cell_type": "code",
   "execution_count": 45,
   "metadata": {},
   "outputs": [],
   "source": [
    "def sample_superposition(n, norbs):\n",
    "    return superposition(generate_n_samples(n, norbs))"
   ]
  },
  {
   "cell_type": "code",
   "execution_count": 46,
   "metadata": {},
   "outputs": [
    {
     "data": {
      "text/plain": [
       "[0.9999696540202292,\n",
       " 2.5734185077079004,\n",
       " 2.711385304015254,\n",
       " 3.2614503912649493,\n",
       " 3.7072898293721344,\n",
       " 4.951925112518079,\n",
       " 5.623157594368417,\n",
       " 5.5615067889252146]"
      ]
     },
     "execution_count": 46,
     "metadata": {},
     "output_type": "execute_result"
    }
   ],
   "source": [
    "n = 2\n",
    "data = []\n",
    "for norbs in range(2, 10):\n",
    "    data.append(np.max([nongaussianity(sample_superposition(n, norbs), 2) for _ in range(100)]))\n",
    "\n",
    "data"
   ]
  },
  {
   "cell_type": "code",
   "execution_count": 47,
   "metadata": {},
   "outputs": [
    {
     "data": {
      "text/plain": [
       "2.6850866422824007"
      ]
     },
     "execution_count": 47,
     "metadata": {},
     "output_type": "execute_result"
    }
   ],
   "source": [
    "nongaussianity(sample_superposition(2, 8), 2)"
   ]
  },
  {
   "cell_type": "code",
   "execution_count": 48,
   "metadata": {},
   "outputs": [
    {
     "data": {
      "text/plain": [
       "array([0.69314718, 1.09861229, 1.38629436, 1.60943791])"
      ]
     },
     "execution_count": 48,
     "metadata": {},
     "output_type": "execute_result"
    }
   ],
   "source": [
    "np.log(range(2,6))"
   ]
  },
  {
   "cell_type": "code",
   "execution_count": 49,
   "metadata": {},
   "outputs": [
    {
     "ename": "ValueError",
     "evalue": "operands could not be broadcast together with shapes (8,) (6,) ",
     "output_type": "error",
     "traceback": [
      "\u001b[0;31m---------------------------------------------------------------------------\u001b[0m",
      "\u001b[0;31mValueError\u001b[0m                                Traceback (most recent call last)",
      "Cell \u001b[0;32mIn[49], line 1\u001b[0m\n\u001b[0;32m----> 1\u001b[0m logdata \u001b[38;5;241m=\u001b[39m \u001b[43mdata\u001b[49m\u001b[38;5;241;43m/\u001b[39;49m\u001b[43mnp\u001b[49m\u001b[38;5;241;43m.\u001b[39;49m\u001b[43mlog\u001b[49m\u001b[43m(\u001b[49m\u001b[38;5;28;43mrange\u001b[39;49m\u001b[43m(\u001b[49m\u001b[38;5;241;43m2\u001b[39;49m\u001b[43m,\u001b[49m\u001b[43m \u001b[49m\u001b[38;5;241;43m8\u001b[39;49m\u001b[43m)\u001b[49m\u001b[43m)\u001b[49m\n\u001b[1;32m      2\u001b[0m logdata\n",
      "\u001b[0;31mValueError\u001b[0m: operands could not be broadcast together with shapes (8,) (6,) "
     ]
    }
   ],
   "source": [
    "logdata = data/np.log(range(2, 8))\n",
    "logdata"
   ]
  },
  {
   "cell_type": "code",
   "execution_count": 172,
   "metadata": {},
   "outputs": [
    {
     "data": {
      "text/plain": [
       "<matplotlib.legend.Legend at 0x28e6cd9d0>"
      ]
     },
     "execution_count": 172,
     "metadata": {},
     "output_type": "execute_result"
    },
    {
     "data": {
      "image/png": "[encoded data removed]",
      "text/plain": [
       "<Figure size 640x480 with 1 Axes>"
      ]
     },
     "metadata": {},
     "output_type": "display_data"
    }
   ],
   "source": [
    "import matplotlib.pyplot as plt\n",
    "# plt.plot([1,2,3,4,5,6,7], np.concatenate(([0], logdata)), label=\"nongaussianity/log n\")\n",
    "plt.plot(range(1, len(data) + 2), np.concatenate([[0] , data]), label=\"nongaussianity\")\n",
    "\n",
    "plt.plot(range(1, len(data) + 1), np.log(range(1, len(data)+1)), label=\"log n\")\n",
    "# plt.plot([1,2,3,4,5,6,7, 8, 9], np.sqrt(range(1, 10)))\n",
    "plt.plot(np.linspace(1,8, 7), np.linspace(1,8, 7), label=\"n\")\n",
    "# plt.plot(np.linspace(1,8, 7), np.linspace(1,8, 7)/np.log(np.linspace(1,8, 7)), label=\"n/ log n\")\n",
    "plt.plot(np.linspace(1,8, 7), np.log(np.linspace(1,8, 7))**2, label=\"(log n)^2\")\n",
    "\n",
    "plt.xlabel(\"n\")\n",
    "plt.legend()"
   ]
  },
  {
   "cell_type": "code",
   "execution_count": 44,
   "metadata": {},
   "outputs": [
    {
     "name": "stdout",
     "output_type": "stream",
     "text": [
      "super [ 0.15771054+0.02237701j -0.01914288-0.9870462j ]\n",
      "ng: 0.09891815480286759\n",
      "super [-0.54412742+0.83900259j  0.        +0.j        ]\n",
      "ng: -4.440892098500626e-16\n",
      "super [0.7571544-0.65323595j 0.       +0.j        ]\n",
      "ng: 2.220446049250313e-16\n",
      "super [0.568423  +0.42057997j 0.08251711-0.70228107j]\n",
      "ng: 0.9999999997577596\n",
      "super [-0.3945595 -0.10588357j  0.15080378+0.90020536j]\n",
      "ng: 0.556146988705311\n",
      "super [ 0.        +0.j         -0.88316689-0.46905888j]\n",
      "ng: -4.440892098500626e-16\n",
      "super [0.04856275+0.99882013j 0.        +0.j        ]\n",
      "ng: 4.440892098500626e-16\n",
      "super [-0.66442183-0.11478109j  0.37058495+0.63877674j]\n",
      "ng: 0.9917666418078315\n",
      "super [-0.64934102+0.76049737j  0.        +0.j        ]\n",
      "ng: 0.0\n",
      "super [-0.10324861+0.27600088j -0.93619658+0.19157035j]\n",
      "ng: 0.3171845524480984\n"
     ]
    }
   ],
   "source": [
    "m = 0\n",
    "n = 2\n",
    "norbs = 1\n",
    "for _ in range(10):\n",
    "    ss = sample_superposition(n, norbs)\n",
    "    print(\"super\",ss)\n",
    "    ng = nongaussianity(ss, 2)\n",
    "    print(\"ng:\", ng)\n",
    "    m = max(m, ng)"
   ]
  },
  {
   "cell_type": "code",
   "execution_count": 45,
   "metadata": {},
   "outputs": [
    {
     "data": {
      "text/plain": [
       "0.9999999997577596"
      ]
     },
     "execution_count": 45,
     "metadata": {},
     "output_type": "execute_result"
    }
   ],
   "source": [
    "m"
   ]
  },
  {
   "cell_type": "code",
   "execution_count": 46,
   "metadata": {},
   "outputs": [],
   "source": [
    "import pickle as pkl"
   ]
  },
  {
   "cell_type": "code",
   "execution_count": 47,
   "metadata": {},
   "outputs": [],
   "source": [
    "np.save( \"./metric_data.npy\", [0, 1.9582815805976208, 2.966501383823812, 3.665779162216511, 4.218889294320181, 5.494926469102586, 6.433891328126746, 6.929726791646733, 7.9513785851856404])"
   ]
  },
  {
   "cell_type": "code",
   "execution_count": 1139,
   "metadata": {},
   "outputs": [],
   "source": [
    "np.save(\"./metric_data_2.npy\",  [0] + data)"
   ]
  },
  {
   "cell_type": "code",
   "execution_count": 1318,
   "metadata": {},
   "outputs": [
    {
     "data": {
      "text/plain": [
       "1.9836284635864363"
      ]
     },
     "execution_count": 1318,
     "metadata": {},
     "output_type": "execute_result"
    }
   ],
   "source": [
    "np.max([nongaussianity(sample_superposition(2, 8), 2) for _ in range(2)])"
   ]
  },
  {
   "cell_type": "markdown",
   "metadata": {},
   "source": [
    "## Optimizing using numpy hopefully"
   ]
  },
  {
   "cell_type": "code",
   "execution_count": 90,
   "metadata": {},
   "outputs": [
    {
     "name": "stdout",
     "output_type": "stream",
     "text": [
      "The autoreload extension is already loaded. To reload it, use:\n",
      "  %reload_ext autoreload\n"
     ]
    }
   ],
   "source": [
    "%load_ext autoreload\n",
    "%autoreload 2\n",
    "\n",
    "from multiprocessing import Pool\n",
    "from metric_sim import single_nongaussianity"
   ]
  },
  {
   "cell_type": "code",
   "execution_count": 85,
   "metadata": {},
   "outputs": [
    {
     "name": "stdout",
     "output_type": "stream",
     "text": [
      "2.8591102499049157\n",
      "5.549903000006452\n"
     ]
    }
   ],
   "source": [
    "import timeit, functools\n",
    "\n",
    "def generate_random_gaussian_state_vector_circ(norbs):\n",
    "    qh = random_quadratic_hamiltonian(norbs, conserves_particle_number=True, real=True, expand_spin=False)\n",
    "    gspc = of.circuits.prepare_gaussian_state(\n",
    "        qubits=cirq.LineQubit.range(0,norbs), quadratic_hamiltonian=qh, occupied_orbitals=None\n",
    "    )\n",
    "    circuit = cirq.Circuit()\n",
    "    circuit.append(gspc)\n",
    "    simulator = cirq.Simulator()\n",
    "    result = simulator.simulate(circuit)\n",
    "    return result.final_state_vector\n",
    "\n",
    "def generate_random_gaussian_state_vector(norbs):\n",
    "    qh = random_quadratic_hamiltonian(norbs, conserves_particle_number=True, real=True, expand_spin=False)\n",
    "    _g_energy, g_state = of.circuits.jw_get_gaussian_state(qh, occupied_orbitals=None)\n",
    "    return g_state\n",
    "\n",
    "print(timeit.timeit(functools.partial(generate_random_gaussian_state_vector_circ, 8), number=1000))\n",
    "print(timeit.timeit(functools.partial(generate_random_gaussian_state_vector, 8), number=1000))\n",
    "\n"
   ]
  },
  {
   "cell_type": "code",
   "execution_count": null,
   "metadata": {},
   "outputs": [],
   "source": []
  },
  {
   "cell_type": "code",
   "execution_count": 70,
   "metadata": {},
   "outputs": [],
   "source": [
    "# def generate_n_samples(n, norbs):\n",
    "#     # return np.fromfunction(lambda x: random_quadratic_hamiltonian(norbs, conserves_particle_number=True, real=True, expand_spin=False), shape=(n,))\n",
    "#     pool = Pool()\n",
    "#     states = pool.map(generate_random_gaussian_state_vector, np.full(n, norbs))\n",
    "#     return states\n",
    "\n",
    "def generate_n_samples(n, norbs):\n",
    "    # return np.fromfunction(lambda x: random_quadratic_hamiltonian(norbs, conserves_particle_number=True, real=True, expand_spin=False), shape=(n,))\n",
    "    states = [generate_random_gaussian_state_vector(norbs) for _ in range(n)]\n",
    "    return states\n",
    "\n",
    "def sample_superposition(n, norbs):\n",
    "    return superposition(generate_n_samples(n, norbs))\n",
    "\n",
    "# def single_nongaussianity(n, norbs, alpha):\n",
    "#     return nongaussianity(superposition(generate_n_samples(n, norbs)), alpha)\n",
    "\n",
    "# def single_nongaussianity(n, norbs):\n",
    "#     def ng(alpha):\n",
    "#         return nongaussianity(superposition(generate_n_samples(n, norbs)), alpha)\n",
    "#     return ng"
   ]
  },
  {
   "cell_type": "code",
   "execution_count": 101,
   "metadata": {},
   "outputs": [
    {
     "data": {
      "text/plain": [
       "2.075192248287645"
      ]
     },
     "execution_count": 101,
     "metadata": {},
     "output_type": "execute_result"
    }
   ],
   "source": [
    "single_nongaussianity(2,8, 2)"
   ]
  },
  {
   "cell_type": "code",
   "execution_count": 102,
   "metadata": {},
   "outputs": [],
   "source": [
    "n = 2\n",
    "reps = 100\n",
    "data = []\n",
    "pool = Pool(4)\n",
    "\n",
    "args = [(n, 14, 2) for _ in range(reps)]\n"
   ]
  },
  {
   "cell_type": "code",
   "execution_count": 103,
   "metadata": {},
   "outputs": [
    {
     "ename": "KeyboardInterrupt",
     "evalue": "",
     "output_type": "error",
     "traceback": [
      "\u001b[0;31m---------------------------------------------------------------------------\u001b[0m",
      "\u001b[0;31mKeyboardInterrupt\u001b[0m                         Traceback (most recent call last)",
      "Cell \u001b[0;32mIn[103], line 1\u001b[0m\n\u001b[0;32m----> 1\u001b[0m np\u001b[38;5;241m.\u001b[39mmax(\u001b[43mpool\u001b[49m\u001b[38;5;241;43m.\u001b[39;49m\u001b[43mstarmap\u001b[49m\u001b[43m(\u001b[49m\u001b[43msingle_nongaussianity\u001b[49m\u001b[43m,\u001b[49m\u001b[43m \u001b[49m\u001b[43margs\u001b[49m\u001b[43m)\u001b[49m)\n",
      "File \u001b[0;32m~/Desktop/thesis/.conda/lib/python3.11/multiprocessing/pool.py:375\u001b[0m, in \u001b[0;36mPool.starmap\u001b[0;34m(self, func, iterable, chunksize)\u001b[0m\n\u001b[1;32m    369\u001b[0m \u001b[38;5;28;01mdef\u001b[39;00m \u001b[38;5;21mstarmap\u001b[39m(\u001b[38;5;28mself\u001b[39m, func, iterable, chunksize\u001b[38;5;241m=\u001b[39m\u001b[38;5;28;01mNone\u001b[39;00m):\n\u001b[1;32m    370\u001b[0m \u001b[38;5;250m    \u001b[39m\u001b[38;5;124;03m'''\u001b[39;00m\n\u001b[1;32m    371\u001b[0m \u001b[38;5;124;03m    Like `map()` method but the elements of the `iterable` are expected to\u001b[39;00m\n\u001b[1;32m    372\u001b[0m \u001b[38;5;124;03m    be iterables as well and will be unpacked as arguments. Hence\u001b[39;00m\n\u001b[1;32m    373\u001b[0m \u001b[38;5;124;03m    `func` and (a, b) becomes func(a, b).\u001b[39;00m\n\u001b[1;32m    374\u001b[0m \u001b[38;5;124;03m    '''\u001b[39;00m\n\u001b[0;32m--> 375\u001b[0m     \u001b[38;5;28;01mreturn\u001b[39;00m \u001b[38;5;28;43mself\u001b[39;49m\u001b[38;5;241;43m.\u001b[39;49m\u001b[43m_map_async\u001b[49m\u001b[43m(\u001b[49m\u001b[43mfunc\u001b[49m\u001b[43m,\u001b[49m\u001b[43m \u001b[49m\u001b[43miterable\u001b[49m\u001b[43m,\u001b[49m\u001b[43m \u001b[49m\u001b[43mstarmapstar\u001b[49m\u001b[43m,\u001b[49m\u001b[43m \u001b[49m\u001b[43mchunksize\u001b[49m\u001b[43m)\u001b[49m\u001b[38;5;241;43m.\u001b[39;49m\u001b[43mget\u001b[49m\u001b[43m(\u001b[49m\u001b[43m)\u001b[49m\n",
      "File \u001b[0;32m~/Desktop/thesis/.conda/lib/python3.11/multiprocessing/pool.py:768\u001b[0m, in \u001b[0;36mApplyResult.get\u001b[0;34m(self, timeout)\u001b[0m\n\u001b[1;32m    767\u001b[0m \u001b[38;5;28;01mdef\u001b[39;00m \u001b[38;5;21mget\u001b[39m(\u001b[38;5;28mself\u001b[39m, timeout\u001b[38;5;241m=\u001b[39m\u001b[38;5;28;01mNone\u001b[39;00m):\n\u001b[0;32m--> 768\u001b[0m     \u001b[38;5;28;43mself\u001b[39;49m\u001b[38;5;241;43m.\u001b[39;49m\u001b[43mwait\u001b[49m\u001b[43m(\u001b[49m\u001b[43mtimeout\u001b[49m\u001b[43m)\u001b[49m\n\u001b[1;32m    769\u001b[0m     \u001b[38;5;28;01mif\u001b[39;00m \u001b[38;5;129;01mnot\u001b[39;00m \u001b[38;5;28mself\u001b[39m\u001b[38;5;241m.\u001b[39mready():\n\u001b[1;32m    770\u001b[0m         \u001b[38;5;28;01mraise\u001b[39;00m \u001b[38;5;167;01mTimeoutError\u001b[39;00m\n",
      "File \u001b[0;32m~/Desktop/thesis/.conda/lib/python3.11/multiprocessing/pool.py:765\u001b[0m, in \u001b[0;36mApplyResult.wait\u001b[0;34m(self, timeout)\u001b[0m\n\u001b[1;32m    764\u001b[0m \u001b[38;5;28;01mdef\u001b[39;00m \u001b[38;5;21mwait\u001b[39m(\u001b[38;5;28mself\u001b[39m, timeout\u001b[38;5;241m=\u001b[39m\u001b[38;5;28;01mNone\u001b[39;00m):\n\u001b[0;32m--> 765\u001b[0m     \u001b[38;5;28;43mself\u001b[39;49m\u001b[38;5;241;43m.\u001b[39;49m\u001b[43m_event\u001b[49m\u001b[38;5;241;43m.\u001b[39;49m\u001b[43mwait\u001b[49m\u001b[43m(\u001b[49m\u001b[43mtimeout\u001b[49m\u001b[43m)\u001b[49m\n",
      "File \u001b[0;32m~/Desktop/thesis/.conda/lib/python3.11/threading.py:629\u001b[0m, in \u001b[0;36mEvent.wait\u001b[0;34m(self, timeout)\u001b[0m\n\u001b[1;32m    627\u001b[0m signaled \u001b[38;5;241m=\u001b[39m \u001b[38;5;28mself\u001b[39m\u001b[38;5;241m.\u001b[39m_flag\n\u001b[1;32m    628\u001b[0m \u001b[38;5;28;01mif\u001b[39;00m \u001b[38;5;129;01mnot\u001b[39;00m signaled:\n\u001b[0;32m--> 629\u001b[0m     signaled \u001b[38;5;241m=\u001b[39m \u001b[38;5;28;43mself\u001b[39;49m\u001b[38;5;241;43m.\u001b[39;49m\u001b[43m_cond\u001b[49m\u001b[38;5;241;43m.\u001b[39;49m\u001b[43mwait\u001b[49m\u001b[43m(\u001b[49m\u001b[43mtimeout\u001b[49m\u001b[43m)\u001b[49m\n\u001b[1;32m    630\u001b[0m \u001b[38;5;28;01mreturn\u001b[39;00m signaled\n",
      "File \u001b[0;32m~/Desktop/thesis/.conda/lib/python3.11/threading.py:327\u001b[0m, in \u001b[0;36mCondition.wait\u001b[0;34m(self, timeout)\u001b[0m\n\u001b[1;32m    325\u001b[0m \u001b[38;5;28;01mtry\u001b[39;00m:    \u001b[38;5;66;03m# restore state no matter what (e.g., KeyboardInterrupt)\u001b[39;00m\n\u001b[1;32m    326\u001b[0m     \u001b[38;5;28;01mif\u001b[39;00m timeout \u001b[38;5;129;01mis\u001b[39;00m \u001b[38;5;28;01mNone\u001b[39;00m:\n\u001b[0;32m--> 327\u001b[0m         \u001b[43mwaiter\u001b[49m\u001b[38;5;241;43m.\u001b[39;49m\u001b[43macquire\u001b[49m\u001b[43m(\u001b[49m\u001b[43m)\u001b[49m\n\u001b[1;32m    328\u001b[0m         gotit \u001b[38;5;241m=\u001b[39m \u001b[38;5;28;01mTrue\u001b[39;00m\n\u001b[1;32m    329\u001b[0m     \u001b[38;5;28;01melse\u001b[39;00m:\n",
      "\u001b[0;31mKeyboardInterrupt\u001b[0m: "
     ]
    }
   ],
   "source": [
    "np.max(pool.starmap(single_nongaussianity, args))"
   ]
  },
  {
   "cell_type": "code",
   "execution_count": 98,
   "metadata": {},
   "outputs": [
    {
     "ename": "KeyboardInterrupt",
     "evalue": "",
     "output_type": "error",
     "traceback": [
      "\u001b[0;31m---------------------------------------------------------------------------\u001b[0m",
      "\u001b[0;31mKeyboardInterrupt\u001b[0m                         Traceback (most recent call last)",
      "Cell \u001b[0;32mIn[98], line 10\u001b[0m\n\u001b[1;32m      5\u001b[0m \u001b[38;5;28;01mfor\u001b[39;00m norbs \u001b[38;5;129;01min\u001b[39;00m \u001b[38;5;28mrange\u001b[39m(\u001b[38;5;241m7\u001b[39m, \u001b[38;5;241m8\u001b[39m):\n\u001b[1;32m      6\u001b[0m     \u001b[38;5;66;03m# value = np.empty((), dtype=object)\u001b[39;00m\n\u001b[1;32m      7\u001b[0m     \u001b[38;5;66;03m# value[()] = (n, norbs, 2)\u001b[39;00m\n\u001b[1;32m      8\u001b[0m     \u001b[38;5;66;03m# args = np.full(n, value, dtype=object)\u001b[39;00m\n\u001b[1;32m      9\u001b[0m     args \u001b[38;5;241m=\u001b[39m [(n, norbs, \u001b[38;5;241m2\u001b[39m) \u001b[38;5;28;01mfor\u001b[39;00m _ \u001b[38;5;129;01min\u001b[39;00m \u001b[38;5;28mrange\u001b[39m(reps)]\n\u001b[0;32m---> 10\u001b[0m     data\u001b[38;5;241m.\u001b[39mappend(np\u001b[38;5;241m.\u001b[39mmax(\u001b[43mpool\u001b[49m\u001b[38;5;241;43m.\u001b[39;49m\u001b[43mstarmap\u001b[49m\u001b[43m(\u001b[49m\u001b[43msingle_nongaussianity\u001b[49m\u001b[43m,\u001b[49m\u001b[43m \u001b[49m\u001b[43margs\u001b[49m\u001b[43m)\u001b[49m))\n",
      "File \u001b[0;32m~/Desktop/thesis/.conda/lib/python3.11/multiprocessing/pool.py:375\u001b[0m, in \u001b[0;36mPool.starmap\u001b[0;34m(self, func, iterable, chunksize)\u001b[0m\n\u001b[1;32m    369\u001b[0m \u001b[38;5;28;01mdef\u001b[39;00m \u001b[38;5;21mstarmap\u001b[39m(\u001b[38;5;28mself\u001b[39m, func, iterable, chunksize\u001b[38;5;241m=\u001b[39m\u001b[38;5;28;01mNone\u001b[39;00m):\n\u001b[1;32m    370\u001b[0m \u001b[38;5;250m    \u001b[39m\u001b[38;5;124;03m'''\u001b[39;00m\n\u001b[1;32m    371\u001b[0m \u001b[38;5;124;03m    Like `map()` method but the elements of the `iterable` are expected to\u001b[39;00m\n\u001b[1;32m    372\u001b[0m \u001b[38;5;124;03m    be iterables as well and will be unpacked as arguments. Hence\u001b[39;00m\n\u001b[1;32m    373\u001b[0m \u001b[38;5;124;03m    `func` and (a, b) becomes func(a, b).\u001b[39;00m\n\u001b[1;32m    374\u001b[0m \u001b[38;5;124;03m    '''\u001b[39;00m\n\u001b[0;32m--> 375\u001b[0m     \u001b[38;5;28;01mreturn\u001b[39;00m \u001b[38;5;28;43mself\u001b[39;49m\u001b[38;5;241;43m.\u001b[39;49m\u001b[43m_map_async\u001b[49m\u001b[43m(\u001b[49m\u001b[43mfunc\u001b[49m\u001b[43m,\u001b[49m\u001b[43m \u001b[49m\u001b[43miterable\u001b[49m\u001b[43m,\u001b[49m\u001b[43m \u001b[49m\u001b[43mstarmapstar\u001b[49m\u001b[43m,\u001b[49m\u001b[43m \u001b[49m\u001b[43mchunksize\u001b[49m\u001b[43m)\u001b[49m\u001b[38;5;241;43m.\u001b[39;49m\u001b[43mget\u001b[49m\u001b[43m(\u001b[49m\u001b[43m)\u001b[49m\n",
      "File \u001b[0;32m~/Desktop/thesis/.conda/lib/python3.11/multiprocessing/pool.py:768\u001b[0m, in \u001b[0;36mApplyResult.get\u001b[0;34m(self, timeout)\u001b[0m\n\u001b[1;32m    767\u001b[0m \u001b[38;5;28;01mdef\u001b[39;00m \u001b[38;5;21mget\u001b[39m(\u001b[38;5;28mself\u001b[39m, timeout\u001b[38;5;241m=\u001b[39m\u001b[38;5;28;01mNone\u001b[39;00m):\n\u001b[0;32m--> 768\u001b[0m     \u001b[38;5;28;43mself\u001b[39;49m\u001b[38;5;241;43m.\u001b[39;49m\u001b[43mwait\u001b[49m\u001b[43m(\u001b[49m\u001b[43mtimeout\u001b[49m\u001b[43m)\u001b[49m\n\u001b[1;32m    769\u001b[0m     \u001b[38;5;28;01mif\u001b[39;00m \u001b[38;5;129;01mnot\u001b[39;00m \u001b[38;5;28mself\u001b[39m\u001b[38;5;241m.\u001b[39mready():\n\u001b[1;32m    770\u001b[0m         \u001b[38;5;28;01mraise\u001b[39;00m \u001b[38;5;167;01mTimeoutError\u001b[39;00m\n",
      "File \u001b[0;32m~/Desktop/thesis/.conda/lib/python3.11/multiprocessing/pool.py:765\u001b[0m, in \u001b[0;36mApplyResult.wait\u001b[0;34m(self, timeout)\u001b[0m\n\u001b[1;32m    764\u001b[0m \u001b[38;5;28;01mdef\u001b[39;00m \u001b[38;5;21mwait\u001b[39m(\u001b[38;5;28mself\u001b[39m, timeout\u001b[38;5;241m=\u001b[39m\u001b[38;5;28;01mNone\u001b[39;00m):\n\u001b[0;32m--> 765\u001b[0m     \u001b[38;5;28;43mself\u001b[39;49m\u001b[38;5;241;43m.\u001b[39;49m\u001b[43m_event\u001b[49m\u001b[38;5;241;43m.\u001b[39;49m\u001b[43mwait\u001b[49m\u001b[43m(\u001b[49m\u001b[43mtimeout\u001b[49m\u001b[43m)\u001b[49m\n",
      "File \u001b[0;32m~/Desktop/thesis/.conda/lib/python3.11/threading.py:629\u001b[0m, in \u001b[0;36mEvent.wait\u001b[0;34m(self, timeout)\u001b[0m\n\u001b[1;32m    627\u001b[0m signaled \u001b[38;5;241m=\u001b[39m \u001b[38;5;28mself\u001b[39m\u001b[38;5;241m.\u001b[39m_flag\n\u001b[1;32m    628\u001b[0m \u001b[38;5;28;01mif\u001b[39;00m \u001b[38;5;129;01mnot\u001b[39;00m signaled:\n\u001b[0;32m--> 629\u001b[0m     signaled \u001b[38;5;241m=\u001b[39m \u001b[38;5;28;43mself\u001b[39;49m\u001b[38;5;241;43m.\u001b[39;49m\u001b[43m_cond\u001b[49m\u001b[38;5;241;43m.\u001b[39;49m\u001b[43mwait\u001b[49m\u001b[43m(\u001b[49m\u001b[43mtimeout\u001b[49m\u001b[43m)\u001b[49m\n\u001b[1;32m    630\u001b[0m \u001b[38;5;28;01mreturn\u001b[39;00m signaled\n",
      "File \u001b[0;32m~/Desktop/thesis/.conda/lib/python3.11/threading.py:327\u001b[0m, in \u001b[0;36mCondition.wait\u001b[0;34m(self, timeout)\u001b[0m\n\u001b[1;32m    325\u001b[0m \u001b[38;5;28;01mtry\u001b[39;00m:    \u001b[38;5;66;03m# restore state no matter what (e.g., KeyboardInterrupt)\u001b[39;00m\n\u001b[1;32m    326\u001b[0m     \u001b[38;5;28;01mif\u001b[39;00m timeout \u001b[38;5;129;01mis\u001b[39;00m \u001b[38;5;28;01mNone\u001b[39;00m:\n\u001b[0;32m--> 327\u001b[0m         \u001b[43mwaiter\u001b[49m\u001b[38;5;241;43m.\u001b[39;49m\u001b[43macquire\u001b[49m\u001b[43m(\u001b[49m\u001b[43m)\u001b[49m\n\u001b[1;32m    328\u001b[0m         gotit \u001b[38;5;241m=\u001b[39m \u001b[38;5;28;01mTrue\u001b[39;00m\n\u001b[1;32m    329\u001b[0m     \u001b[38;5;28;01melse\u001b[39;00m:\n",
      "\u001b[0;31mKeyboardInterrupt\u001b[0m: "
     ]
    }
   ],
   "source": [
    "n = 2\n",
    "reps = 100\n",
    "data = []\n",
    "pool = Pool(4)\n",
    "for norbs in range(7, 8):\n",
    "    # value = np.empty((), dtype=object)\n",
    "    # value[()] = (n, norbs, 2)\n",
    "    # args = np.full(n, value, dtype=object)\n",
    "    args = [(n, norbs, 2) for _ in range(reps)]\n",
    "    data.append(np.max(pool.starmap(single_nongaussianity, args)))"
   ]
  },
  {
   "cell_type": "code",
   "execution_count": 79,
   "metadata": {},
   "outputs": [
    {
     "data": {
      "text/plain": [
       "[-8.881784197001252e-16,\n",
       " 0.571605041111046,\n",
       " 1.7825503682897517,\n",
       " 1.449693634657021,\n",
       " 0.9458706671821977,\n",
       " 3.292857457876906]"
      ]
     },
     "execution_count": 79,
     "metadata": {},
     "output_type": "execute_result"
    }
   ],
   "source": [
    "data"
   ]
  },
  {
   "cell_type": "code",
   "execution_count": 74,
   "metadata": {},
   "outputs": [
    {
     "data": {
      "text/plain": [
       "<matplotlib.legend.Legend at 0x168faf410>"
      ]
     },
     "execution_count": 74,
     "metadata": {},
     "output_type": "execute_result"
    },
    {
     "data": {
      "image/png": "[encoded data removed]",
      "text/plain": [
       "<Figure size 640x480 with 1 Axes>"
      ]
     },
     "metadata": {},
     "output_type": "display_data"
    }
   ],
   "source": [
    "import matplotlib.pyplot as plt\n",
    "# plt.plot([1,2,3,4,5,6,7], np.concatenate(([0], logdata)), label=\"nongaussianity/log n\")\n",
    "plt.plot([1,2,3,4,5,6,7], [0] + data, label=\"nongaussianity\")\n",
    "\n",
    "plt.plot([1,2,3,4,5,6,7, 8, 9], np.log(range(1, 10)), label=\"log n\")\n",
    "# plt.plot([1,2,3,4,5,6,7, 8, 9], np.sqrt(range(1, 10)))\n",
    "plt.plot(np.linspace(1,8, 7), np.linspace(1,8, 7), label=\"n\")\n",
    "# plt.plot(np.linspace(1,8, 7), np.linspace(1,8, 7)/np.log(np.linspace(1,8, 7)), label=\"n/ log n\")\n",
    "plt.plot(np.linspace(1,8, 7), np.log(np.linspace(1,8, 7))**2, label=\"(log n)^2\")\n",
    "\n",
    "plt.xlabel(\"n\")\n",
    "plt.legend()"
   ]
  },
  {
   "cell_type": "markdown",
   "metadata": {},
   "source": [
    "# Testing on Haar random states"
   ]
  },
  {
   "cell_type": "code",
   "execution_count": 52,
   "metadata": {},
   "outputs": [],
   "source": [
    "qubits = cirq.LineQubit.range(2) \n",
    "circuit = cirq.Circuit()\n",
    "circuit.append([cirq.I(q) for q in qubits])\n",
    "simulator = cirq.Simulator()\n",
    "result = simulator.simulate(circuit)"
   ]
  },
  {
   "cell_type": "code",
   "execution_count": 53,
   "metadata": {},
   "outputs": [],
   "source": [
    "def get_zero_state(n):\n",
    "    qubits = cirq.LineQubit.range(n) \n",
    "    circuit = cirq.Circuit()\n",
    "    circuit.append([cirq.I(q) for q in qubits])\n",
    "    simulator = cirq.Simulator()\n",
    "    result = simulator.simulate(circuit)\n",
    "    return result.final_state_vector\n",
    "\n",
    "def get_b_nonguass_samples(b, n):\n",
    "    zero  = get_zero_state(n)\n",
    "    return np.array([of.testing.random_unitary_matrix(len(zero)) @ zero for _ in range(b)])\n"
   ]
  },
  {
   "cell_type": "code",
   "execution_count": 186,
   "metadata": {},
   "outputs": [
    {
     "data": {
      "text/plain": [
       "array([11., 12., 13., 14., 15., 16., 17., 18., 19., 20.])"
      ]
     },
     "execution_count": 186,
     "metadata": {},
     "output_type": "execute_result"
    }
   ],
   "source": [
    "np.linspace(11, 20, 10)"
   ]
  },
  {
   "cell_type": "code",
   "execution_count": 187,
   "metadata": {},
   "outputs": [
    {
     "data": {
      "text/plain": [
       "0.9253940284685866"
      ]
     },
     "execution_count": 187,
     "metadata": {},
     "output_type": "execute_result"
    }
   ],
   "source": [
    "nongaussianity(of.testing.random_unitary_matrix(len(result.final_state_vector)) @ result.final_state_vector, 2)"
   ]
  },
  {
   "cell_type": "code",
   "execution_count": 188,
   "metadata": {},
   "outputs": [],
   "source": [
    "ng_np = np.vectorize(get_b_nonguass_samples)"
   ]
  },
  {
   "cell_type": "code",
   "execution_count": 189,
   "metadata": {},
   "outputs": [],
   "source": [
    "def nongaussianity2(state_vec):\n",
    "    return nongaussianity(state_vec, 2)"
   ]
  },
  {
   "cell_type": "code",
   "execution_count": 190,
   "metadata": {},
   "outputs": [
    {
     "data": {
      "text/plain": [
       "array([0.84111812, 0.81820521, 0.95000737, 0.96934759, 0.468391  ,\n",
       "       0.95109953, 0.9040438 , 0.93828515, 0.61679923, 0.96084007])"
      ]
     },
     "execution_count": 190,
     "metadata": {},
     "output_type": "execute_result"
    }
   ],
   "source": [
    "np.apply_along_axis(nongaussianity2, 1, ng_np(10, 2))"
   ]
  },
  {
   "cell_type": "code",
   "execution_count": 191,
   "metadata": {},
   "outputs": [
    {
     "data": {
      "text/plain": [
       "[0.997920056482833,\n",
       " 0.9971037970919325,\n",
       " 1.736078283536238,\n",
       " 2.9896338613064097,\n",
       " 4.079480095620881,\n",
       " 5.244239463609856,\n",
       " 6.416809309994166,\n",
       " 7.69128787276909,\n",
       " 8.755453032122249]"
      ]
     },
     "execution_count": 191,
     "metadata": {},
     "output_type": "execute_result"
    }
   ],
   "source": [
    "b = 10\n",
    "data_haar = []\n",
    "for n_haar in range(1, 10):\n",
    "    data_haar.append(np.max(np.apply_along_axis(nongaussianity2, 1, ng_np(b, n_haar))))\n",
    "\n",
    "data_haar"
   ]
  },
  {
   "cell_type": "code",
   "execution_count": 208,
   "metadata": {},
   "outputs": [
    {
     "data": {
      "text/plain": [
       "<matplotlib.legend.Legend at 0x17f96d9d0>"
      ]
     },
     "execution_count": 208,
     "metadata": {},
     "output_type": "execute_result"
    },
    {
     "data": {
      "image/png": "[encoded data removed]",
      "text/plain": [
       "<Figure size 640x480 with 1 Axes>"
      ]
     },
     "metadata": {},
     "output_type": "display_data"
    }
   ],
   "source": [
    "import matplotlib.pyplot as plt\n",
    "fig = plt.plot([1,2,3,4,5,6,7, 8, 9], data_haar, label=\"nongaussianity haar\")\n",
    "# plt.plot([1,2,3,4,5,6,7, 8, 9], np.log(range(1, 10)))\n",
    "# plt.plot([1,2,3,4,5,6,7, 8, 9], np.sqrt(range(1, 10)))\n",
    "plt.plot(np.linspace(1,10, 9), np.linspace(1,10, 9), label=\"y = n\")\n",
    "fig[0].axes.xaxis.set_major_locator(plt.MultipleLocator(2))\n",
    "fig[0].axes.xaxis.set_minor_locator(plt.MultipleLocator(1))\n",
    "\n",
    "plt.legend()"
   ]
  },
  {
   "cell_type": "code",
   "execution_count": 201,
   "metadata": {},
   "outputs": [
    {
     "data": {
      "text/plain": [
       "<Axes: >"
      ]
     },
     "execution_count": 201,
     "metadata": {},
     "output_type": "execute_result"
    }
   ],
   "source": [
    "fig[0].axes.xaxis.set_ma"
   ]
  },
  {
   "cell_type": "markdown",
   "metadata": {},
   "source": [
    "# Lambda Metric\n",
    "$\\|\\Lambda (\\rho \\otimes \\rho)\\|$ as a metric"
   ]
  },
  {
   "cell_type": "code",
   "execution_count": 81,
   "metadata": {},
   "outputs": [],
   "source": [
    "def lambda_op(state_vector):\n",
    "    n = int(np.log2(len(state_vector)))\n",
    "    vecs = []\n",
    "    qubits = cirq.LineQubit.range(n) \n",
    "\n",
    "    for j in range(1,2* n + 1):\n",
    "        c_j = c_k(j)\n",
    "        \n",
    "        circuit = cirq.Circuit()\n",
    "        circuit.append([cirq.I(q) for q in qubits])\n",
    "        circuit.append([c_j])\n",
    "        print(circuit)\n",
    "        simulator = cirq.Simulator()\n",
    "        result = simulator.simulate(circuit, initial_state=state_vector)\n",
    "        vecs.append(result.final_state_vector)\n",
    "\n",
    "    return np.sum(vecs, axis=0)"
   ]
  },
  {
   "cell_type": "code",
   "execution_count": 85,
   "metadata": {},
   "outputs": [
    {
     "name": "stdout",
     "output_type": "stream",
     "text": [
      "0: ───I───PauliString(+X)───\n",
      "\n",
      "1: ───I─────────────────────\n",
      "\n",
      "2: ───I─────────────────────\n",
      "0: ───I───PauliString(+Y)───\n",
      "\n",
      "1: ───I─────────────────────\n",
      "\n",
      "2: ───I─────────────────────\n",
      "0: ───I───PauliString(+Z)───\n",
      "          │\n",
      "1: ───I───X─────────────────\n",
      "\n",
      "2: ───I─────────────────────\n",
      "0: ───I───PauliString(+Z)───\n",
      "          │\n",
      "1: ───I───Y─────────────────\n",
      "\n",
      "2: ───I─────────────────────\n",
      "0: ───I───PauliString(+Z)───\n",
      "          │\n",
      "1: ───I───Z─────────────────\n",
      "          │\n",
      "2: ───I───X─────────────────\n",
      "0: ───I───PauliString(+Z)───\n",
      "          │\n",
      "1: ───I───Z─────────────────\n",
      "          │\n",
      "2: ───I───Y─────────────────\n"
     ]
    },
    {
     "data": {
      "text/plain": [
       "array([1.+0.j, 0.+0.j, 0.+0.j, 0.+0.j, 0.+0.j, 0.+0.j, 0.+0.j, 0.+0.j],\n",
       "      dtype=complex64)"
      ]
     },
     "execution_count": 85,
     "metadata": {},
     "output_type": "execute_result"
    }
   ],
   "source": [
    "test = 3\n",
    "\n",
    "# get_zero_state(test).conj() @ lambda_op(lambda_op(get_zero_state(test)))\n",
    "(lambda_op(get_zero_state(test)))\n",
    "get_zero_state(test)"
   ]
  },
  {
   "cell_type": "code",
   "execution_count": null,
   "metadata": {},
   "outputs": [],
   "source": [
    "def lam2(state_vector):\n",
    "    "
   ]
  }
 ],
 "metadata": {
  "kernelspec": {
   "display_name": "Python 3",
   "language": "python",
   "name": "python3"
  },
  "language_info": {
   "codemirror_mode": {
    "name": "ipython",
    "version": 3
   },
   "file_extension": ".py",
   "mimetype": "text/x-python",
   "name": "python",
   "nbconvert_exporter": "python",
   "pygments_lexer": "ipython3",
   "version": "3.11.8"
  }
 },
 "nbformat": 4,
 "nbformat_minor": 2
}
